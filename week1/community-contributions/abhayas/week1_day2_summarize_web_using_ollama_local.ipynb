{
 "cells": [
  {
   "cell_type": "code",
   "execution_count": 17,
   "id": "86282ee7-659b-46b4-b06a-06a54a6b6030",
   "metadata": {},
   "outputs": [],
   "source": [
    "from bs4 import BeautifulSoup\n",
    "import requests\n",
    "from IPython.display import Markdown, display\n",
    "import ollama"
   ]
  },
  {
   "cell_type": "code",
   "execution_count": 18,
   "id": "35f9aacd-8145-4332-b2ab-f805b2ba8ddc",
   "metadata": {},
   "outputs": [],
   "source": [
    "response = requests.get(\"https://news.google.com/home?hl=en-IN&gl=IN&ceid=IN:en\")"
   ]
  },
  {
   "cell_type": "code",
   "execution_count": 19,
   "id": "2adc4cdf-27ba-4be0-8323-bcaff7ef0a48",
   "metadata": {},
   "outputs": [],
   "source": [
    "bs = BeautifulSoup(response.content, \"html.parser\")"
   ]
  },
  {
   "cell_type": "code",
   "execution_count": 25,
   "id": "9d00724a-64cc-4cfc-9556-869626a5aacd",
   "metadata": {},
   "outputs": [],
   "source": [
    "finalconent = bs.select(\"body\")[0].get_text(separator=\"\\n\", strip=True)"
   ]
  },
  {
   "cell_type": "code",
   "execution_count": 26,
   "id": "b89bc4c6-d370-4202-9455-cc382517e45e",
   "metadata": {},
   "outputs": [],
   "source": [
    "OLLAMA_API = \"http://127.0.0.1:11434/api/chat\"\n",
    "MODEL = \"llama3.2\""
   ]
  },
  {
   "cell_type": "code",
   "execution_count": 27,
   "id": "accb7cc0-4f07-4cbe-87ef-c1c4759e6425",
   "metadata": {},
   "outputs": [],
   "source": [
    "messages = [\n",
    "    {\"role\": \"system\", \"content\": \"Your role to summarize given content from a website igoring the navigations\"},\n",
    "    {\"role\": \"user\", \"content\": finalconent}\n",
    "]"
   ]
  },
  {
   "cell_type": "code",
   "execution_count": 28,
   "id": "89d3bc8c-0e52-412b-9b26-788cc15d2495",
   "metadata": {
    "scrolled": true
   },
   "outputs": [],
   "source": [
    "response = ollama.chat(model=MODEL, messages=messages)"
   ]
  },
  {
   "cell_type": "code",
   "execution_count": 29,
   "id": "8c64ffb8-eeb3-45ef-9e41-8515decacbaf",
   "metadata": {},
   "outputs": [
    {
     "data": {
      "text/markdown": [
       "Here is a summary of the content:\n",
       "\n",
       "**Top News Stories**\n",
       "\n",
       "1. Sushila Karki takes charge as Nepal's interim PM, with China welcoming the move and hailing it as a \"time-honoured friendship\".\n",
       "2. The Nepali government has dissolved the House of Representatives, with opposition parties calling it \"unconstitutional\" and \"arbitrary\".\n",
       "3. Nepal's new Prime Minister Sushila Karki has announced that those killed in Gen Z protests will be declared martyrs.\n",
       "4. Prime Minister Narendra Modi has congratulated Nepal on its Independence Day, while also expressing concern over the country's recent political developments.\n",
       "\n",
       "**Other News**\n",
       "\n",
       "1. A suspect named Tyler Robinson has been arrested in connection with the murder of Charlie Kirk, an American conservative commentator.\n",
       "2. The Indian government has announced plans to unveil several development projects worth Rs 18,530 crore in Assam.\n",
       "3. Chinese Foreign Minister Wang Yi has dismissed US claims that China plots wars.\n",
       "\n",
       "**General**\n",
       "\n",
       "1. Google News is providing personalized news stories based on user preferences.\n",
       "2. Users can sign in and customize their news feed.\n",
       "3. The website offers various sections for different types of news content, including local news and picks for users."
      ],
      "text/plain": [
       "<IPython.core.display.Markdown object>"
      ]
     },
     "execution_count": 29,
     "metadata": {},
     "output_type": "execute_result"
    }
   ],
   "source": [
    "Markdown(response['message']['content'])"
   ]
  },
  {
   "cell_type": "code",
   "execution_count": null,
   "id": "72a4eb5d-40c4-4f7c-87ab-a21db32b81c9",
   "metadata": {},
   "outputs": [],
   "source": []
  }
 ],
 "metadata": {
  "kernelspec": {
   "display_name": "Python 3 (ipykernel)",
   "language": "python",
   "name": "python3"
  },
  "language_info": {
   "codemirror_mode": {
    "name": "ipython",
    "version": 3
   },
   "file_extension": ".py",
   "mimetype": "text/x-python",
   "name": "python",
   "nbconvert_exporter": "python",
   "pygments_lexer": "ipython3",
   "version": "3.11.13"
  }
 },
 "nbformat": 4,
 "nbformat_minor": 5
}
