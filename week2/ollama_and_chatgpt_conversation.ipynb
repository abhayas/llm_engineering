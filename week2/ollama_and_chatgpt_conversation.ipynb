{
 "cells": [
  {
   "cell_type": "code",
   "execution_count": null,
   "id": "b6625862-444b-4cf2-906d-629dc24d0ee9",
   "metadata": {},
   "outputs": [],
   "source": [
    "from openai import OpenAI\n",
    "import ollama\n",
    "from dotenv import load_dotenv\n",
    "import os\n",
    "from IPython.display import Markdown, display"
   ]
  },
  {
   "cell_type": "code",
   "execution_count": null,
   "id": "32a5c157-5346-44ea-9714-3ca5cf1e9285",
   "metadata": {},
   "outputs": [],
   "source": [
    "load_dotenv(override=True)"
   ]
  },
  {
   "cell_type": "code",
   "execution_count": null,
   "id": "eba7e1b6-1a06-4b44-bb56-46c0eb9f458c",
   "metadata": {},
   "outputs": [],
   "source": [
    "openapikey = os.getenv(\"OPENAI_API_KEY\")"
   ]
  },
  {
   "cell_type": "code",
   "execution_count": null,
   "id": "bcefaea1-04c4-4c0d-a893-346574418cc6",
   "metadata": {},
   "outputs": [],
   "source": [
    "openai = OpenAI()"
   ]
  },
  {
   "cell_type": "code",
   "execution_count": null,
   "id": "a92aa68c-9980-4d90-b767-c551c388d0f7",
   "metadata": {},
   "outputs": [],
   "source": [
    "gptmessagehistory = [\n",
    "                        {\"role\":\"system\", \"content\": \"you are a software developer taking to a amry officer in a train journey\"},\n",
    "                        {\"role\":\"user\", \"content\" :\"Hi there\"}\n",
    "                    \n",
    "                    ]\n",
    "ollamachathistory = [{\"role\": \"system\", \"content\": \"You are a Army officer taking to a software engineer in a train journey\"}]"
   ]
  },
  {
   "cell_type": "code",
   "execution_count": null,
   "id": "9e516c62-5146-415f-bd48-79222cafa48d",
   "metadata": {},
   "outputs": [],
   "source": [
    "def callgpt():\n",
    "    prompt = \"\"\n",
    "    #chats.append()\n",
    "    response = openai.chat.completions.create( model=\"gpt-4o-mini\", messages=gptmessagehistory, max_tokens=500)\n",
    "    reply = response.choices[0].message.content\n",
    "    gptmessagehistory.append({\"role\":\"assistant\", \"content\" :reply})\n",
    "    ollamachathistory.append({\"role\":\"user\", \"content\" :reply})\n",
    "    return reply          "
   ]
  },
  {
   "cell_type": "code",
   "execution_count": null,
   "id": "5630f2e0-b35c-466b-aac5-f91fe39461c3",
   "metadata": {},
   "outputs": [],
   "source": [
    "def call_llama():\n",
    "    prompt=\"\"\n",
    "    response = ollama.chat( model=\"llama3.2\", messages=ollamachathistory)\n",
    "    reply = response.message.content    \n",
    "    ollamachathistory.append({\"role\":\"assistant\", \"content\" :reply})\n",
    "    gptmessagehistory.append({\"role\":\"user\", \"content\" :reply})\n",
    "    return reply   "
   ]
  },
  {
   "cell_type": "code",
   "execution_count": null,
   "id": "77dc4924-373a-4927-bb49-18c908f769df",
   "metadata": {},
   "outputs": [],
   "source": [
    "display(Markdown(\"**llama3.2 (Army officer) Says:**\"))\n",
    "display(Markdown(\"Hi There\"))\n",
    "for x in range(5):\n",
    "    display(Markdown(\"**gpt-4o-mini (Software Engineer)  Says:**\"))\n",
    "    display(Markdown(callgpt()))\n",
    "    display(Markdown(\"**llama3.2 (Army officer) Says:**\"))\n",
    "    display(Markdown(call_llama()))"
   ]
  },
  {
   "cell_type": "code",
   "execution_count": null,
   "id": "6f96b362-6901-45de-abf4-34ad01a55af8",
   "metadata": {},
   "outputs": [],
   "source": []
  }
 ],
 "metadata": {
  "kernelspec": {
   "display_name": "Python 3 (ipykernel)",
   "language": "python",
   "name": "python3"
  },
  "language_info": {
   "codemirror_mode": {
    "name": "ipython",
    "version": 3
   },
   "file_extension": ".py",
   "mimetype": "text/x-python",
   "name": "python",
   "nbconvert_exporter": "python",
   "pygments_lexer": "ipython3",
   "version": "3.11.13"
  }
 },
 "nbformat": 4,
 "nbformat_minor": 5
}
